{
 "metadata": {
  "language_info": {
   "codemirror_mode": {
    "name": "ipython",
    "version": 3
   },
   "file_extension": ".py",
   "mimetype": "text/x-python",
   "name": "python",
   "nbconvert_exporter": "python",
   "pygments_lexer": "ipython3",
   "version": "3.8.5"
  },
  "orig_nbformat": 2,
  "kernelspec": {
   "name": "python3",
   "display_name": "Python 3.8.5 64-bit ('base': conda)",
   "metadata": {
    "interpreter": {
     "hash": "6d46af94c2bbce495f1e668725902fa517c90b1782bcfe2fce0dd9868df553d3"
    }
   }
  }
 },
 "nbformat": 4,
 "nbformat_minor": 2,
 "cells": [
  {
   "cell_type": "code",
   "execution_count": 12,
   "metadata": {},
   "outputs": [],
   "source": [
    "from PIL import Image\n",
    "import os, glob\n",
    "import numpy as np\n",
    "from sklearn.model_selection import train_test_split\n",
    "from tqdm import tqdm_notebook"
   ]
  },
  {
   "cell_type": "code",
   "execution_count": 2,
   "metadata": {},
   "outputs": [],
   "source": [
    "# 분류 대상 카테고리 선택하기 \n",
    "categories = [\"top\",\"bottom\",\"etc\"]\n",
    "nb_classes = len(categories)"
   ]
  },
  {
   "cell_type": "code",
   "execution_count": 3,
   "metadata": {},
   "outputs": [],
   "source": [
    "# 이미지 크기 지정 \n",
    "image_w = 64 \n",
    "image_h = 64\n",
    "pixels = image_w * image_h * 3"
   ]
  },
  {
   "cell_type": "code",
   "execution_count": 13,
   "metadata": {
    "tags": []
   },
   "outputs": [
    {
     "output_type": "stream",
     "name": "stderr",
     "text": [
      "<ipython-input-13-a8b5309a97f2>:12: TqdmDeprecationWarning: This function will be removed in tqdm==5.0.0\nPlease use `tqdm.notebook.tqdm` instead of `tqdm.tqdm_notebook`\n  for i, f in tqdm_notebook(enumerate(files)):\n"
     ]
    },
    {
     "output_type": "display_data",
     "data": {
      "text/plain": "HBox(children=(HTML(value=''), FloatProgress(value=1.0, bar_style='info', layout=Layout(width='20px'), max=1.0…",
      "application/vnd.jupyter.widget-view+json": {
       "version_major": 2,
       "version_minor": 0,
       "model_id": "bcad8b96b06246f79db75d1e046f80f6"
      }
     },
     "metadata": {}
    },
    {
     "output_type": "stream",
     "name": "stderr",
     "text": [
      "C:\\Users\\user\\anaconda3\\lib\\site-packages\\PIL\\Image.py:951: UserWarning: Palette images with Transparency expressed in bytes should be converted to RGBA images\n",
      "  warnings.warn(\n",
      "\n"
     ]
    },
    {
     "output_type": "display_data",
     "data": {
      "text/plain": "HBox(children=(HTML(value=''), FloatProgress(value=1.0, bar_style='info', layout=Layout(width='20px'), max=1.0…",
      "application/vnd.jupyter.widget-view+json": {
       "version_major": 2,
       "version_minor": 0,
       "model_id": "558a3af6700e45398327069864980b60"
      }
     },
     "metadata": {}
    },
    {
     "output_type": "stream",
     "name": "stdout",
     "text": [
      "\n"
     ]
    },
    {
     "output_type": "display_data",
     "data": {
      "text/plain": "HBox(children=(HTML(value=''), FloatProgress(value=1.0, bar_style='info', layout=Layout(width='20px'), max=1.0…",
      "application/vnd.jupyter.widget-view+json": {
       "version_major": 2,
       "version_minor": 0,
       "model_id": "5b43fcde032a4ba49ef7f95e2efdc750"
      }
     },
     "metadata": {}
    },
    {
     "output_type": "stream",
     "name": "stdout",
     "text": [
      "\n"
     ]
    }
   ],
   "source": [
    "# 이미지 데이터 읽어 들이기 \n",
    "X = []\n",
    "Y = []\n",
    "\n",
    "for idx, cat in enumerate(categories):\n",
    "    # 레이블 지정 \n",
    "    label = [0 for i in range(nb_classes)]\n",
    "    label[idx] = 1\n",
    "    # 이미지 \n",
    "    image_dir = \"./clothes_test/\" + cat\n",
    "    files = glob.glob(image_dir+\"/*.jpg\")\n",
    "    for i, f in tqdm_notebook(enumerate(files)):\n",
    "        img = Image.open(f) \n",
    "        img = img.convert(\"RGB\")\n",
    "        img = img.resize((image_w, image_h))\n",
    "        data = np.asarray(img)      # numpy 배열로 변환\n",
    "        X.append(data)\n",
    "        Y.append(label)\n",
    "        # if i % 10 == 0:\n",
    "        #     print(i, \"\\n\", data[:10])\n"
   ]
  },
  {
   "cell_type": "code",
   "execution_count": 14,
   "metadata": {},
   "outputs": [],
   "source": [
    "X = np.array(X)\n",
    "Y = np.array(Y)"
   ]
  },
  {
   "cell_type": "code",
   "execution_count": 15,
   "metadata": {},
   "outputs": [],
   "source": [
    "# 학습 전용 데이터와 테스트 전용 데이터 구분 \n",
    "X_train, X_test, y_train, y_test = train_test_split(X, Y, test_size=0.2, random_state=1)\n",
    "\n",
    "xy = (X_train, X_test, y_train, y_test)"
   ]
  },
  {
   "cell_type": "code",
   "execution_count": 16,
   "metadata": {},
   "outputs": [
    {
     "output_type": "stream",
     "name": "stdout",
     "text": [
      "3095 774\n(3095, 64, 64, 3) (774, 64, 64, 3)\n"
     ]
    }
   ],
   "source": [
    "print(len(X_train), len(X_test))\n",
    "print(X_train.shape, X_test.shape)"
   ]
  },
  {
   "cell_type": "code",
   "execution_count": 17,
   "metadata": {},
   "outputs": [
    {
     "output_type": "stream",
     "name": "stdout",
     "text": [
      ">>> data 저장중 ...\n",
      "C:\\Users\\user\\anaconda3\\lib\\site-packages\\numpy\\core\\_asarray.py:136: VisibleDeprecationWarning: Creating an ndarray from ragged nested sequences (which is a list-or-tuple of lists-or-tuples-or ndarrays with different lengths or shapes) is deprecated. If you meant to do this, you must specify 'dtype=object' when creating the ndarray\n",
      "  return array(a, dtype, copy=False, order=order, subok=True)\n",
      "ok, 3869\n"
     ]
    }
   ],
   "source": [
    "print('>>> data 저장중 ...')\n",
    "np.save(\"./clothes.npy\", xy, allow_pickle=True)\n",
    "print(\"ok,\", len(Y))"
   ]
  },
  {
   "cell_type": "code",
   "execution_count": 18,
   "metadata": {},
   "outputs": [],
   "source": [
    "from tensorflow.keras.models import Sequential\n",
    "from tensorflow.keras.layers import MaxPooling2D\n",
    "from tensorflow.keras.layers import Conv2D\n",
    "from tensorflow.keras.layers import Activation, Dropout, Flatten, Dense\n",
    "import numpy as np\n",
    "import os"
   ]
  },
  {
   "cell_type": "code",
   "execution_count": 32,
   "metadata": {},
   "outputs": [],
   "source": [
    "# 카테고리 지정하기\n",
    "categories = [\"top\", 'bottom', 'etc']\n",
    "nb_classes = len(categories)"
   ]
  },
  {
   "cell_type": "code",
   "execution_count": 20,
   "metadata": {},
   "outputs": [],
   "source": [
    "# 이미지 크기 지정하기\n",
    "image_w = 64\n",
    "image_h = 64"
   ]
  },
  {
   "cell_type": "code",
   "execution_count": 21,
   "metadata": {},
   "outputs": [],
   "source": [
    "# 데이터 열기 \n",
    "X_train, X_test, y_train, y_test = np.load(\"./clothes.npy\", allow_pickle=True)"
   ]
  },
  {
   "cell_type": "code",
   "execution_count": 22,
   "metadata": {},
   "outputs": [
    {
     "output_type": "stream",
     "name": "stdout",
     "text": [
      "X_train shape: (3095, 64, 64, 3)\nX_test shape: (774, 64, 64, 3)\n"
     ]
    }
   ],
   "source": [
    "# 데이터 정규화하기(0~1사이로)\n",
    "X_train = X_train.astype(\"float\") / 255\n",
    "X_test  = X_test.astype(\"float\")  / 255\n",
    "print('X_train shape:', X_train.shape)\n",
    "print('X_test shape:', X_test.shape)"
   ]
  },
  {
   "cell_type": "code",
   "execution_count": 23,
   "metadata": {},
   "outputs": [],
   "source": [
    "# 모델 구조 정의 \n",
    "model = Sequential()\n",
    "\n",
    "model.add(Conv2D(32, (3, 3), input_shape=X_train.shape[1:], padding='same'))\n",
    "model.add(Activation('relu'))\n",
    "model.add(MaxPooling2D(pool_size=(2, 2)))\n",
    "model.add(Dropout(0.25))\n",
    "\n",
    "model.add(Conv2D(64, (3, 3), padding='same'))\n",
    "model.add(Activation('relu'))\n",
    "\n",
    "model.add(Conv2D(128, (3, 3)))\n",
    "model.add(MaxPooling2D(pool_size=(2, 2)))\n",
    "model.add(Dropout(0.25))"
   ]
  },
  {
   "cell_type": "code",
   "execution_count": 24,
   "metadata": {},
   "outputs": [],
   "source": [
    "# 전결합층\n",
    "model.add(Flatten())    # 벡터형태로 reshape\n",
    "model.add(Dense(512))   # 출력\n",
    "model.add(Activation('relu'))\n",
    "model.add(Dropout(0.5))\n",
    "\n",
    "model.add(Dense(nb_classes))\n",
    "model.add(Activation('softmax'))"
   ]
  },
  {
   "cell_type": "code",
   "execution_count": 25,
   "metadata": {},
   "outputs": [
    {
     "output_type": "stream",
     "name": "stdout",
     "text": [
      "Model: \"sequential\"\n_________________________________________________________________\nLayer (type)                 Output Shape              Param #   \n=================================================================\nconv2d (Conv2D)              (None, 64, 64, 32)        896       \n_________________________________________________________________\nactivation (Activation)      (None, 64, 64, 32)        0         \n_________________________________________________________________\nmax_pooling2d (MaxPooling2D) (None, 32, 32, 32)        0         \n_________________________________________________________________\ndropout (Dropout)            (None, 32, 32, 32)        0         \n_________________________________________________________________\nconv2d_1 (Conv2D)            (None, 32, 32, 64)        18496     \n_________________________________________________________________\nactivation_1 (Activation)    (None, 32, 32, 64)        0         \n_________________________________________________________________\nconv2d_2 (Conv2D)            (None, 30, 30, 128)       73856     \n_________________________________________________________________\nmax_pooling2d_1 (MaxPooling2 (None, 15, 15, 128)       0         \n_________________________________________________________________\ndropout_1 (Dropout)          (None, 15, 15, 128)       0         \n_________________________________________________________________\nflatten (Flatten)            (None, 28800)             0         \n_________________________________________________________________\ndense (Dense)                (None, 512)               14746112  \n_________________________________________________________________\nactivation_2 (Activation)    (None, 512)               0         \n_________________________________________________________________\ndropout_2 (Dropout)          (None, 512)               0         \n_________________________________________________________________\ndense_1 (Dense)              (None, 3)                 1539      \n_________________________________________________________________\nactivation_3 (Activation)    (None, 3)                 0         \n=================================================================\nTotal params: 14,840,899\nTrainable params: 14,840,899\nNon-trainable params: 0\n_________________________________________________________________\nNone\n"
     ]
    }
   ],
   "source": [
    "# 모델 구축하기\n",
    "model.compile(loss='categorical_crossentropy',   # 최적화 함수 지정\n",
    "    optimizer='rmsprop',\n",
    "    metrics=['accuracy'])\n",
    "# 모델 확인\n",
    "print(model.summary())"
   ]
  },
  {
   "cell_type": "code",
   "execution_count": 26,
   "metadata": {},
   "outputs": [
    {
     "output_type": "stream",
     "name": "stdout",
     "text": [
      "Epoch 1/10\n",
      "310/310 [==============================] - 92s 292ms/step - loss: 1.0000 - accuracy: 0.6078\n",
      "Epoch 2/10\n",
      "310/310 [==============================] - 89s 286ms/step - loss: 0.4962 - accuracy: 0.7964\n",
      "Epoch 3/10\n",
      "310/310 [==============================] - 89s 287ms/step - loss: 0.4127 - accuracy: 0.8441\n",
      "Epoch 4/10\n",
      "310/310 [==============================] - 90s 289ms/step - loss: 0.3344 - accuracy: 0.8757\n",
      "Epoch 5/10\n",
      "310/310 [==============================] - 87s 280ms/step - loss: 0.2750 - accuracy: 0.8965\n",
      "Epoch 6/10\n",
      "310/310 [==============================] - 86s 276ms/step - loss: 0.2516 - accuracy: 0.9137\n",
      "Epoch 7/10\n",
      "310/310 [==============================] - 85s 273ms/step - loss: 0.2136 - accuracy: 0.9285\n",
      "Epoch 8/10\n",
      "310/310 [==============================] - 85s 275ms/step - loss: 0.1795 - accuracy: 0.9350\n",
      "Epoch 9/10\n",
      "310/310 [==============================] - 85s 273ms/step - loss: 0.1581 - accuracy: 0.9471\n",
      "Epoch 10/10\n",
      "310/310 [==============================] - 84s 271ms/step - loss: 0.1247 - accuracy: 0.9573\n"
     ]
    }
   ],
   "source": [
    "# 학습 완료된 모델 저장\n",
    "hdf5_file = \"./clothes.h5\"\n",
    "# 파일로 저장\n",
    "model.fit(X_train, y_train, epochs=10, batch_size=10)\n",
    "model.save_weights(hdf5_file)"
   ]
  },
  {
   "cell_type": "code",
   "execution_count": 27,
   "metadata": {},
   "outputs": [
    {
     "output_type": "stream",
     "name": "stdout",
     "text": [
      "25/25 [==============================] - 3s 101ms/step - loss: 0.6319 - accuracy: 0.8966\n",
      "loss= 0.6318702697753906\n",
      "accuracy= 0.8966408371925354\n"
     ]
    }
   ],
   "source": [
    "# 모델 평가하기 \n",
    "score = model.evaluate(X_test, y_test)\n",
    "print('loss=', score[0])        # loss\n",
    "print('accuracy=', score[1])    # acc"
   ]
  },
  {
   "cell_type": "code",
   "execution_count": 38,
   "metadata": {},
   "outputs": [],
   "source": [
    "## 이미지 넣고 적중률 시험\n",
    "# 적용해볼 이미지 \n",
    "test_image = './test3.jpg'"
   ]
  },
  {
   "cell_type": "code",
   "execution_count": 39,
   "metadata": {},
   "outputs": [],
   "source": [
    "# 이미지 resize\n",
    "img = Image.open(test_image)\n",
    "img = img.convert(\"RGB\")\n",
    "img = img.resize((64,64))\n",
    "data = np.asarray(img)"
   ]
  },
  {
   "cell_type": "code",
   "execution_count": 40,
   "metadata": {},
   "outputs": [],
   "source": [
    "X = np.array(data)\n",
    "X = X.astype(\"float\") / 255\n",
    "X = X.reshape(-1, 64, 64,3)"
   ]
  },
  {
   "cell_type": "code",
   "execution_count": 41,
   "metadata": {},
   "outputs": [
    {
     "output_type": "stream",
     "name": "stdout",
     "text": [
      "New data category :  etc\n"
     ]
    }
   ],
   "source": [
    "# 예측\n",
    "pred = model.predict(X)  \n",
    "result = [np.argmax(value) for value in pred]   # 예측 값중 가장 높은 클래스 반환\n",
    "print('New data category : ',categories[result[0]])"
   ]
  },
  {
   "cell_type": "code",
   "execution_count": null,
   "metadata": {},
   "outputs": [],
   "source": []
  }
 ]
}